{
 "cells": [
  {
   "cell_type": "code",
   "execution_count": null,
   "metadata": {
    "collapsed": true
   },
   "outputs": [],
   "source": [
    "###FE-595 homework Assignment-1\n",
    "##Python refresher\n",
    "\n",
    "##Name - Monica Vijaywargi\n",
    "## CWID - 10423110\n",
    "\n",
    "\n",
    "##Importing the matplotlib and numpy lib as plt and np respectively\n",
    "import matplotlib.pyplot as plt\n",
    "import numpy as np\n",
    "\n",
    "\n",
    "## the plot goes from 0 to 360 (2pi) for cycles of sine and cosine\n",
    "period = np.arange(0,2*np.pi,0.01)   # start,stop,step\n",
    "\n",
    "#Sine graph\n",
    "sin = np.sin(period)\n",
    "\n",
    "# cosine graph\n",
    "cos = np.cos(period)\n",
    "\n",
    "#plotting sin and cosine on the same axis\n",
    "plt.plot(period,sin,period,cos)\n",
    "\n",
    "##creating legends\n",
    "plt.subplot().legend(['Sine','Cosine'])\n",
    "\n",
    "# Creating X and Y axes\n",
    "plt.subplot().axhline(y=0,color='k')\n",
    "plt.subplot().axvline(x=0,color='k')\n",
    "\n",
    "# Displaying the plot\n",
    "plt.show()"
   ]
  }
 ],
 "metadata": {
  "kernelspec": {
   "display_name": "Python 3",
   "language": "python",
   "name": "python3"
  },
  "language_info": {
   "codemirror_mode": {
    "name": "ipython",
    "version": 3
   },
   "file_extension": ".py",
   "mimetype": "text/x-python",
   "name": "python",
   "nbconvert_exporter": "python",
   "pygments_lexer": "ipython3",
   "version": "3.6.3"
  }
 },
 "nbformat": 4,
 "nbformat_minor": 2
}
